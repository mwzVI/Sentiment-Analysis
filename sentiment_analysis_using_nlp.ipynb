{
  "cells": [
    {
      "cell_type": "markdown",
      "metadata": {
        "id": "view-in-github",
        "colab_type": "text"
      },
      "source": [
        "<a href=\"https://colab.research.google.com/github/mwzVI/Sentiment-Analysis/blob/main/sentiment_analysis_using_nlp.ipynb\" target=\"_parent\"><img src=\"https://colab.research.google.com/assets/colab-badge.svg\" alt=\"Open In Colab\"/></a>"
      ]
    },
    {
      "cell_type": "markdown",
      "id": "d8b50610",
      "metadata": {
        "id": "d8b50610"
      },
      "source": [
        "# IMDB SENTIMENT ANALYSIS USING NLP \n",
        "\n",
        "\n",
        "You can download the dataset from the Kaggle link below: https://www.kaggle.com/ymanojkumar023/kumarmanoj-bag-of-words-meets-bags-of-popcorn \n",
        "\n",
        "Please download only: labeledTrainData.tsv file..\n"
      ]
    },
    {
      "cell_type": "code",
      "source": [
        "from google.colab import drive\n",
        "drive.mount('/content/drive')"
      ],
      "metadata": {
        "colab": {
          "base_uri": "https://localhost:8080/"
        },
        "id": "FsO1YfHYAebv",
        "outputId": "7ed77f09-daca-4063-9cbf-14ae43a7f1a0"
      },
      "id": "FsO1YfHYAebv",
      "execution_count": null,
      "outputs": [
        {
          "output_type": "stream",
          "name": "stdout",
          "text": [
            "Mounted at /content/drive\n"
          ]
        }
      ]
    },
    {
      "cell_type": "code",
      "execution_count": null,
      "id": "f772e692",
      "metadata": {
        "id": "f772e692"
      },
      "outputs": [],
      "source": [
        "import numpy as np\n",
        "import pandas as pd\n",
        "import matplotlib.pyplot as plt\n",
        "from sklearn.feature_extraction.text import CountVectorizer\n",
        "from sklearn.ensemble import RandomForestClassifier\n",
        "from sklearn.metrics import roc_auc_score\n",
        "from bs4 import BeautifulSoup\n",
        "import re\n",
        "import nltk\n",
        "from sklearn.model_selection import train_test_split\n",
        "from nltk.corpus import stopwords\n",
        "\n"
      ]
    },
    {
      "cell_type": "code",
      "execution_count": null,
      "id": "52b4d4d9",
      "metadata": {
        "id": "52b4d4d9"
      },
      "outputs": [],
      "source": [
        "# We load our dataset here..\n",
        "df = pd.read_csv('/content/drive/MyDrive/labeledTrainData.tsv',  delimiter=\"\\t\", quoting=3)\n",
        "\n"
      ]
    },
    {
      "cell_type": "code",
      "execution_count": null,
      "id": "d736f9b1",
      "metadata": {
        "colab": {
          "base_uri": "https://localhost:8080/",
          "height": 206
        },
        "id": "d736f9b1",
        "outputId": "9ded30c3-3be9-4a01-99f8-bf056e4c035e"
      },
      "outputs": [
        {
          "output_type": "execute_result",
          "data": {
            "text/plain": [
              "         id  sentiment                                             review\n",
              "0  \"5814_8\"          1  \"With all this stuff going down at the moment ...\n",
              "1  \"2381_9\"          1  \"\\\"The Classic War of the Worlds\\\" by Timothy ...\n",
              "2  \"7759_3\"          0  \"The film starts with a manager (Nicholas Bell...\n",
              "3  \"3630_4\"          0  \"It must be assumed that those who praised thi...\n",
              "4  \"9495_8\"          1  \"Superbly trashy and wondrously unpretentious ..."
            ],
            "text/html": [
              "\n",
              "  <div id=\"df-e41e8730-9ff6-4292-8f2d-ae25fab6e7c9\">\n",
              "    <div class=\"colab-df-container\">\n",
              "      <div>\n",
              "<style scoped>\n",
              "    .dataframe tbody tr th:only-of-type {\n",
              "        vertical-align: middle;\n",
              "    }\n",
              "\n",
              "    .dataframe tbody tr th {\n",
              "        vertical-align: top;\n",
              "    }\n",
              "\n",
              "    .dataframe thead th {\n",
              "        text-align: right;\n",
              "    }\n",
              "</style>\n",
              "<table border=\"1\" class=\"dataframe\">\n",
              "  <thead>\n",
              "    <tr style=\"text-align: right;\">\n",
              "      <th></th>\n",
              "      <th>id</th>\n",
              "      <th>sentiment</th>\n",
              "      <th>review</th>\n",
              "    </tr>\n",
              "  </thead>\n",
              "  <tbody>\n",
              "    <tr>\n",
              "      <th>0</th>\n",
              "      <td>\"5814_8\"</td>\n",
              "      <td>1</td>\n",
              "      <td>\"With all this stuff going down at the moment ...</td>\n",
              "    </tr>\n",
              "    <tr>\n",
              "      <th>1</th>\n",
              "      <td>\"2381_9\"</td>\n",
              "      <td>1</td>\n",
              "      <td>\"\\\"The Classic War of the Worlds\\\" by Timothy ...</td>\n",
              "    </tr>\n",
              "    <tr>\n",
              "      <th>2</th>\n",
              "      <td>\"7759_3\"</td>\n",
              "      <td>0</td>\n",
              "      <td>\"The film starts with a manager (Nicholas Bell...</td>\n",
              "    </tr>\n",
              "    <tr>\n",
              "      <th>3</th>\n",
              "      <td>\"3630_4\"</td>\n",
              "      <td>0</td>\n",
              "      <td>\"It must be assumed that those who praised thi...</td>\n",
              "    </tr>\n",
              "    <tr>\n",
              "      <th>4</th>\n",
              "      <td>\"9495_8\"</td>\n",
              "      <td>1</td>\n",
              "      <td>\"Superbly trashy and wondrously unpretentious ...</td>\n",
              "    </tr>\n",
              "  </tbody>\n",
              "</table>\n",
              "</div>\n",
              "      <button class=\"colab-df-convert\" onclick=\"convertToInteractive('df-e41e8730-9ff6-4292-8f2d-ae25fab6e7c9')\"\n",
              "              title=\"Convert this dataframe to an interactive table.\"\n",
              "              style=\"display:none;\">\n",
              "        \n",
              "  <svg xmlns=\"http://www.w3.org/2000/svg\" height=\"24px\"viewBox=\"0 0 24 24\"\n",
              "       width=\"24px\">\n",
              "    <path d=\"M0 0h24v24H0V0z\" fill=\"none\"/>\n",
              "    <path d=\"M18.56 5.44l.94 2.06.94-2.06 2.06-.94-2.06-.94-.94-2.06-.94 2.06-2.06.94zm-11 1L8.5 8.5l.94-2.06 2.06-.94-2.06-.94L8.5 2.5l-.94 2.06-2.06.94zm10 10l.94 2.06.94-2.06 2.06-.94-2.06-.94-.94-2.06-.94 2.06-2.06.94z\"/><path d=\"M17.41 7.96l-1.37-1.37c-.4-.4-.92-.59-1.43-.59-.52 0-1.04.2-1.43.59L10.3 9.45l-7.72 7.72c-.78.78-.78 2.05 0 2.83L4 21.41c.39.39.9.59 1.41.59.51 0 1.02-.2 1.41-.59l7.78-7.78 2.81-2.81c.8-.78.8-2.07 0-2.86zM5.41 20L4 18.59l7.72-7.72 1.47 1.35L5.41 20z\"/>\n",
              "  </svg>\n",
              "      </button>\n",
              "      \n",
              "  <style>\n",
              "    .colab-df-container {\n",
              "      display:flex;\n",
              "      flex-wrap:wrap;\n",
              "      gap: 12px;\n",
              "    }\n",
              "\n",
              "    .colab-df-convert {\n",
              "      background-color: #E8F0FE;\n",
              "      border: none;\n",
              "      border-radius: 50%;\n",
              "      cursor: pointer;\n",
              "      display: none;\n",
              "      fill: #1967D2;\n",
              "      height: 32px;\n",
              "      padding: 0 0 0 0;\n",
              "      width: 32px;\n",
              "    }\n",
              "\n",
              "    .colab-df-convert:hover {\n",
              "      background-color: #E2EBFA;\n",
              "      box-shadow: 0px 1px 2px rgba(60, 64, 67, 0.3), 0px 1px 3px 1px rgba(60, 64, 67, 0.15);\n",
              "      fill: #174EA6;\n",
              "    }\n",
              "\n",
              "    [theme=dark] .colab-df-convert {\n",
              "      background-color: #3B4455;\n",
              "      fill: #D2E3FC;\n",
              "    }\n",
              "\n",
              "    [theme=dark] .colab-df-convert:hover {\n",
              "      background-color: #434B5C;\n",
              "      box-shadow: 0px 1px 3px 1px rgba(0, 0, 0, 0.15);\n",
              "      filter: drop-shadow(0px 1px 2px rgba(0, 0, 0, 0.3));\n",
              "      fill: #FFFFFF;\n",
              "    }\n",
              "  </style>\n",
              "\n",
              "      <script>\n",
              "        const buttonEl =\n",
              "          document.querySelector('#df-e41e8730-9ff6-4292-8f2d-ae25fab6e7c9 button.colab-df-convert');\n",
              "        buttonEl.style.display =\n",
              "          google.colab.kernel.accessAllowed ? 'block' : 'none';\n",
              "\n",
              "        async function convertToInteractive(key) {\n",
              "          const element = document.querySelector('#df-e41e8730-9ff6-4292-8f2d-ae25fab6e7c9');\n",
              "          const dataTable =\n",
              "            await google.colab.kernel.invokeFunction('convertToInteractive',\n",
              "                                                     [key], {});\n",
              "          if (!dataTable) return;\n",
              "\n",
              "          const docLinkHtml = 'Like what you see? Visit the ' +\n",
              "            '<a target=\"_blank\" href=https://colab.research.google.com/notebooks/data_table.ipynb>data table notebook</a>'\n",
              "            + ' to learn more about interactive tables.';\n",
              "          element.innerHTML = '';\n",
              "          dataTable['output_type'] = 'display_data';\n",
              "          await google.colab.output.renderOutput(dataTable, element);\n",
              "          const docLink = document.createElement('div');\n",
              "          docLink.innerHTML = docLinkHtml;\n",
              "          element.appendChild(docLink);\n",
              "        }\n",
              "      </script>\n",
              "    </div>\n",
              "  </div>\n",
              "  "
            ]
          },
          "metadata": {},
          "execution_count": 5
        }
      ],
      "source": [
        "# Let's look at the head of the dataset:\n",
        "df.head()"
      ]
    },
    {
      "cell_type": "code",
      "execution_count": null,
      "id": "b0be5437",
      "metadata": {
        "colab": {
          "base_uri": "https://localhost:8080/"
        },
        "id": "b0be5437",
        "outputId": "0b4d9126-281a-47b4-9286-7a5d0c6fa528"
      },
      "outputs": [
        {
          "output_type": "execute_result",
          "data": {
            "text/plain": [
              "25000"
            ]
          },
          "metadata": {},
          "execution_count": 6
        }
      ],
      "source": [
        "len(df)"
      ]
    },
    {
      "cell_type": "code",
      "execution_count": null,
      "id": "553cff4f",
      "metadata": {
        "colab": {
          "base_uri": "https://localhost:8080/"
        },
        "id": "553cff4f",
        "outputId": "4d763073-7c4c-4163-fed7-7e2120d6fb4b"
      },
      "outputs": [
        {
          "output_type": "execute_result",
          "data": {
            "text/plain": [
              "25000"
            ]
          },
          "metadata": {},
          "execution_count": 7
        }
      ],
      "source": [
        "len(df[\"review\"])"
      ]
    },
    {
      "cell_type": "code",
      "execution_count": null,
      "id": "6e767dca",
      "metadata": {
        "colab": {
          "base_uri": "https://localhost:8080/"
        },
        "id": "6e767dca",
        "outputId": "f4d1f660-1489-4205-cd04-b605ac5c2348"
      },
      "outputs": [
        {
          "output_type": "stream",
          "name": "stdout",
          "text": [
            "[nltk_data] Downloading package stopwords to /root/nltk_data...\n",
            "[nltk_data]   Unzipping corpora/stopwords.zip.\n"
          ]
        },
        {
          "output_type": "execute_result",
          "data": {
            "text/plain": [
              "True"
            ]
          },
          "metadata": {},
          "execution_count": 8
        }
      ],
      "source": [
        "# Since stopwords aren't used in NLP we have to clear stopwords. For this purpose we must download stopword wordset from nltk library..\n",
        "# We do this operation using nltk module..\n",
        "nltk.download('stopwords')\n",
        "\n",
        "\n"
      ]
    },
    {
      "cell_type": "markdown",
      "id": "5748918b",
      "metadata": {
        "id": "5748918b"
      },
      "source": [
        "## Data Cleaning Operations "
      ]
    },
    {
      "cell_type": "markdown",
      "id": "86bb420a",
      "metadata": {
        "id": "86bb420a"
      },
      "source": [
        "### First, we will delete HTML tags from review sentences using the BeautifulSoup module.\n",
        "\n",
        "To explain how these processes are done, first let's choose a single review and see how it is done for you:"
      ]
    },
    {
      "cell_type": "code",
      "execution_count": null,
      "id": "52044274",
      "metadata": {
        "scrolled": true,
        "colab": {
          "base_uri": "https://localhost:8080/",
          "height": 122
        },
        "id": "52044274",
        "outputId": "03a3f12b-1ec8-46a9-96a7-62848fbc282a"
      },
      "outputs": [
        {
          "output_type": "execute_result",
          "data": {
            "text/plain": [
              "'\"With all this stuff going down at the moment with MJ i\\'ve started listening to his music, watching the odd documentary here and there, watched The Wiz and watched Moonwalker again. Maybe i just want to get a certain insight into this guy who i thought was really cool in the eighties just to maybe make up my mind whether he is guilty or innocent. Moonwalker is part biography, part feature film which i remember going to see at the cinema when it was originally released. Some of it has subtle messages about MJ\\'s feeling towards the press and also the obvious message of drugs are bad m\\'kay.<br /><br />Visually impressive but of course this is all about Michael Jackson so unless you remotely like MJ in anyway then you are going to hate this and find it boring. Some may call MJ an egotist for consenting to the making of this movie BUT MJ and most of his fans would say that he made it for the fans which if true is really nice of him.<br /><br />The actual feature film bit when it finally starts is only on for 20 minutes or so excluding the Smooth Criminal sequence and Joe Pesci is convincing as a psychopathic all powerful drug lord. Why he wants MJ dead so bad is beyond me. Because MJ overheard his plans? Nah, Joe Pesci\\'s character ranted that he wanted people to know it is he who is supplying drugs etc so i dunno, maybe he just hates MJ\\'s music.<br /><br />Lots of cool things in this like MJ turning into a car and a robot and the whole Speed Demon sequence. Also, the director must have had the patience of a saint when it came to filming the kiddy Bad sequence as usually directors hate working with one kid let alone a whole bunch of them performing a complex dance scene.<br /><br />Bottom line, this movie is for people who like MJ on one level or another (which i think is most people). If not, then stay away. It does try and give off a wholesome message and ironically MJ\\'s bestest buddy in this movie is a girl! Michael Jackson is truly one of the most talented people ever to grace this planet but is he guilty? Well, with all the attention i\\'ve gave this subject....hmmm well i don\\'t know because people can be different behind closed doors, i know this for a fact. He is either an extremely nice but stupid guy or one of the most sickest liars. I hope he is not the latter.\"'"
            ],
            "application/vnd.google.colaboratory.intrinsic+json": {
              "type": "string"
            }
          },
          "metadata": {},
          "execution_count": 10
        }
      ],
      "source": [
        "sample = df.review[0]\n",
        "sample"
      ]
    },
    {
      "cell_type": "code",
      "execution_count": null,
      "id": "68d67c2b",
      "metadata": {
        "colab": {
          "base_uri": "https://localhost:8080/",
          "height": 122
        },
        "id": "68d67c2b",
        "outputId": "66927c26-c8ec-4b86-ba44-718248fe1025"
      },
      "outputs": [
        {
          "output_type": "execute_result",
          "data": {
            "text/plain": [
              "'\"With all this stuff going down at the moment with MJ i\\'ve started listening to his music, watching the odd documentary here and there, watched The Wiz and watched Moonwalker again. Maybe i just want to get a certain insight into this guy who i thought was really cool in the eighties just to maybe make up my mind whether he is guilty or innocent. Moonwalker is part biography, part feature film which i remember going to see at the cinema when it was originally released. Some of it has subtle messages about MJ\\'s feeling towards the press and also the obvious message of drugs are bad m\\'kay.Visually impressive but of course this is all about Michael Jackson so unless you remotely like MJ in anyway then you are going to hate this and find it boring. Some may call MJ an egotist for consenting to the making of this movie BUT MJ and most of his fans would say that he made it for the fans which if true is really nice of him.The actual feature film bit when it finally starts is only on for 20 minutes or so excluding the Smooth Criminal sequence and Joe Pesci is convincing as a psychopathic all powerful drug lord. Why he wants MJ dead so bad is beyond me. Because MJ overheard his plans? Nah, Joe Pesci\\'s character ranted that he wanted people to know it is he who is supplying drugs etc so i dunno, maybe he just hates MJ\\'s music.Lots of cool things in this like MJ turning into a car and a robot and the whole Speed Demon sequence. Also, the director must have had the patience of a saint when it came to filming the kiddy Bad sequence as usually directors hate working with one kid let alone a whole bunch of them performing a complex dance scene.Bottom line, this movie is for people who like MJ on one level or another (which i think is most people). If not, then stay away. It does try and give off a wholesome message and ironically MJ\\'s bestest buddy in this movie is a girl! Michael Jackson is truly one of the most talented people ever to grace this planet but is he guilty? Well, with all the attention i\\'ve gave this subject....hmmm well i don\\'t know because people can be different behind closed doors, i know this for a fact. He is either an extremely nice but stupid guy or one of the most sickest liars. I hope he is not the latter.\"'"
            ],
            "application/vnd.google.colaboratory.intrinsic+json": {
              "type": "string"
            }
          },
          "metadata": {},
          "execution_count": 11
        }
      ],
      "source": [
        "# Clear HTML tags..\n",
        "sample = BeautifulSoup(sample).get_text()\n",
        "sample  # After the HTML tags are cleared."
      ]
    },
    {
      "cell_type": "code",
      "execution_count": null,
      "id": "7a547704",
      "metadata": {
        "colab": {
          "base_uri": "https://localhost:8080/",
          "height": 122
        },
        "id": "7a547704",
        "outputId": "2bba81bd-8fd9-4743-a526-840f23e6dccf"
      },
      "outputs": [
        {
          "output_type": "execute_result",
          "data": {
            "text/plain": [
              "' With all this stuff going down at the moment with MJ i ve started listening to his music  watching the odd documentary here and there  watched The Wiz and watched Moonwalker again  Maybe i just want to get a certain insight into this guy who i thought was really cool in the eighties just to maybe make up my mind whether he is guilty or innocent  Moonwalker is part biography  part feature film which i remember going to see at the cinema when it was originally released  Some of it has subtle messages about MJ s feeling towards the press and also the obvious message of drugs are bad m kay Visually impressive but of course this is all about Michael Jackson so unless you remotely like MJ in anyway then you are going to hate this and find it boring  Some may call MJ an egotist for consenting to the making of this movie BUT MJ and most of his fans would say that he made it for the fans which if true is really nice of him The actual feature film bit when it finally starts is only on for    minutes or so excluding the Smooth Criminal sequence and Joe Pesci is convincing as a psychopathic all powerful drug lord  Why he wants MJ dead so bad is beyond me  Because MJ overheard his plans  Nah  Joe Pesci s character ranted that he wanted people to know it is he who is supplying drugs etc so i dunno  maybe he just hates MJ s music Lots of cool things in this like MJ turning into a car and a robot and the whole Speed Demon sequence  Also  the director must have had the patience of a saint when it came to filming the kiddy Bad sequence as usually directors hate working with one kid let alone a whole bunch of them performing a complex dance scene Bottom line  this movie is for people who like MJ on one level or another  which i think is most people   If not  then stay away  It does try and give off a wholesome message and ironically MJ s bestest buddy in this movie is a girl  Michael Jackson is truly one of the most talented people ever to grace this planet but is he guilty  Well  with all the attention i ve gave this subject    hmmm well i don t know because people can be different behind closed doors  i know this for a fact  He is either an extremely nice but stupid guy or one of the most sickest liars  I hope he is not the latter  '"
            ],
            "application/vnd.google.colaboratory.intrinsic+json": {
              "type": "string"
            }
          },
          "metadata": {},
          "execution_count": 12
        }
      ],
      "source": [
        "# we clean it from punctuation and numbers - using regex..\n",
        "sample = re.sub(\"[^a-zA-Z]\",' ',sample)\n",
        "sample"
      ]
    },
    {
      "cell_type": "code",
      "execution_count": null,
      "id": "64917f6e",
      "metadata": {
        "colab": {
          "base_uri": "https://localhost:8080/",
          "height": 122
        },
        "id": "64917f6e",
        "outputId": "e6714139-993f-4d14-9457-680c18d42d12"
      },
      "outputs": [
        {
          "output_type": "execute_result",
          "data": {
            "text/plain": [
              "' with all this stuff going down at the moment with mj i ve started listening to his music  watching the odd documentary here and there  watched the wiz and watched moonwalker again  maybe i just want to get a certain insight into this guy who i thought was really cool in the eighties just to maybe make up my mind whether he is guilty or innocent  moonwalker is part biography  part feature film which i remember going to see at the cinema when it was originally released  some of it has subtle messages about mj s feeling towards the press and also the obvious message of drugs are bad m kay visually impressive but of course this is all about michael jackson so unless you remotely like mj in anyway then you are going to hate this and find it boring  some may call mj an egotist for consenting to the making of this movie but mj and most of his fans would say that he made it for the fans which if true is really nice of him the actual feature film bit when it finally starts is only on for    minutes or so excluding the smooth criminal sequence and joe pesci is convincing as a psychopathic all powerful drug lord  why he wants mj dead so bad is beyond me  because mj overheard his plans  nah  joe pesci s character ranted that he wanted people to know it is he who is supplying drugs etc so i dunno  maybe he just hates mj s music lots of cool things in this like mj turning into a car and a robot and the whole speed demon sequence  also  the director must have had the patience of a saint when it came to filming the kiddy bad sequence as usually directors hate working with one kid let alone a whole bunch of them performing a complex dance scene bottom line  this movie is for people who like mj on one level or another  which i think is most people   if not  then stay away  it does try and give off a wholesome message and ironically mj s bestest buddy in this movie is a girl  michael jackson is truly one of the most talented people ever to grace this planet but is he guilty  well  with all the attention i ve gave this subject    hmmm well i don t know because people can be different behind closed doors  i know this for a fact  he is either an extremely nice but stupid guy or one of the most sickest liars  i hope he is not the latter  '"
            ],
            "application/vnd.google.colaboratory.intrinsic+json": {
              "type": "string"
            }
          },
          "metadata": {},
          "execution_count": 13
        }
      ],
      "source": [
        "# we convert it to lowercase, since our machine learning algorithms think capitalized letters with different words\n",
        "# and this may result mistakes..\n",
        "sample = sample.lower()\n",
        "sample"
      ]
    },
    {
      "cell_type": "code",
      "execution_count": null,
      "id": "e6f3c5ce",
      "metadata": {
        "id": "e6f3c5ce"
      },
      "outputs": [],
      "source": [
        "# stopwords (stopwords are the words like the, is, are not to be used by AI. These are grammar words..)\n",
        "# First we split the words with split and convert them to a list. Our goal is to remove stopwords..\n",
        "sample = sample.split()\n",
        "  "
      ]
    },
    {
      "cell_type": "code",
      "execution_count": null,
      "id": "6fdd8373",
      "metadata": {
        "colab": {
          "base_uri": "https://localhost:8080/"
        },
        "id": "6fdd8373",
        "outputId": "4b3dccc5-e0da-4a0a-9aff-69157353ecc8"
      },
      "outputs": [
        {
          "output_type": "execute_result",
          "data": {
            "text/plain": [
              "['with',\n",
              " 'all',\n",
              " 'this',\n",
              " 'stuff',\n",
              " 'going',\n",
              " 'down',\n",
              " 'at',\n",
              " 'the',\n",
              " 'moment',\n",
              " 'with',\n",
              " 'mj',\n",
              " 'i',\n",
              " 've',\n",
              " 'started',\n",
              " 'listening',\n",
              " 'to',\n",
              " 'his',\n",
              " 'music',\n",
              " 'watching',\n",
              " 'the',\n",
              " 'odd',\n",
              " 'documentary',\n",
              " 'here',\n",
              " 'and',\n",
              " 'there',\n",
              " 'watched',\n",
              " 'the',\n",
              " 'wiz',\n",
              " 'and',\n",
              " 'watched',\n",
              " 'moonwalker',\n",
              " 'again',\n",
              " 'maybe',\n",
              " 'i',\n",
              " 'just',\n",
              " 'want',\n",
              " 'to',\n",
              " 'get',\n",
              " 'a',\n",
              " 'certain',\n",
              " 'insight',\n",
              " 'into',\n",
              " 'this',\n",
              " 'guy',\n",
              " 'who',\n",
              " 'i',\n",
              " 'thought',\n",
              " 'was',\n",
              " 'really',\n",
              " 'cool',\n",
              " 'in',\n",
              " 'the',\n",
              " 'eighties',\n",
              " 'just',\n",
              " 'to',\n",
              " 'maybe',\n",
              " 'make',\n",
              " 'up',\n",
              " 'my',\n",
              " 'mind',\n",
              " 'whether',\n",
              " 'he',\n",
              " 'is',\n",
              " 'guilty',\n",
              " 'or',\n",
              " 'innocent',\n",
              " 'moonwalker',\n",
              " 'is',\n",
              " 'part',\n",
              " 'biography',\n",
              " 'part',\n",
              " 'feature',\n",
              " 'film',\n",
              " 'which',\n",
              " 'i',\n",
              " 'remember',\n",
              " 'going',\n",
              " 'to',\n",
              " 'see',\n",
              " 'at',\n",
              " 'the',\n",
              " 'cinema',\n",
              " 'when',\n",
              " 'it',\n",
              " 'was',\n",
              " 'originally',\n",
              " 'released',\n",
              " 'some',\n",
              " 'of',\n",
              " 'it',\n",
              " 'has',\n",
              " 'subtle',\n",
              " 'messages',\n",
              " 'about',\n",
              " 'mj',\n",
              " 's',\n",
              " 'feeling',\n",
              " 'towards',\n",
              " 'the',\n",
              " 'press',\n",
              " 'and',\n",
              " 'also',\n",
              " 'the',\n",
              " 'obvious',\n",
              " 'message',\n",
              " 'of',\n",
              " 'drugs',\n",
              " 'are',\n",
              " 'bad',\n",
              " 'm',\n",
              " 'kay',\n",
              " 'visually',\n",
              " 'impressive',\n",
              " 'but',\n",
              " 'of',\n",
              " 'course',\n",
              " 'this',\n",
              " 'is',\n",
              " 'all',\n",
              " 'about',\n",
              " 'michael',\n",
              " 'jackson',\n",
              " 'so',\n",
              " 'unless',\n",
              " 'you',\n",
              " 'remotely',\n",
              " 'like',\n",
              " 'mj',\n",
              " 'in',\n",
              " 'anyway',\n",
              " 'then',\n",
              " 'you',\n",
              " 'are',\n",
              " 'going',\n",
              " 'to',\n",
              " 'hate',\n",
              " 'this',\n",
              " 'and',\n",
              " 'find',\n",
              " 'it',\n",
              " 'boring',\n",
              " 'some',\n",
              " 'may',\n",
              " 'call',\n",
              " 'mj',\n",
              " 'an',\n",
              " 'egotist',\n",
              " 'for',\n",
              " 'consenting',\n",
              " 'to',\n",
              " 'the',\n",
              " 'making',\n",
              " 'of',\n",
              " 'this',\n",
              " 'movie',\n",
              " 'but',\n",
              " 'mj',\n",
              " 'and',\n",
              " 'most',\n",
              " 'of',\n",
              " 'his',\n",
              " 'fans',\n",
              " 'would',\n",
              " 'say',\n",
              " 'that',\n",
              " 'he',\n",
              " 'made',\n",
              " 'it',\n",
              " 'for',\n",
              " 'the',\n",
              " 'fans',\n",
              " 'which',\n",
              " 'if',\n",
              " 'true',\n",
              " 'is',\n",
              " 'really',\n",
              " 'nice',\n",
              " 'of',\n",
              " 'him',\n",
              " 'the',\n",
              " 'actual',\n",
              " 'feature',\n",
              " 'film',\n",
              " 'bit',\n",
              " 'when',\n",
              " 'it',\n",
              " 'finally',\n",
              " 'starts',\n",
              " 'is',\n",
              " 'only',\n",
              " 'on',\n",
              " 'for',\n",
              " 'minutes',\n",
              " 'or',\n",
              " 'so',\n",
              " 'excluding',\n",
              " 'the',\n",
              " 'smooth',\n",
              " 'criminal',\n",
              " 'sequence',\n",
              " 'and',\n",
              " 'joe',\n",
              " 'pesci',\n",
              " 'is',\n",
              " 'convincing',\n",
              " 'as',\n",
              " 'a',\n",
              " 'psychopathic',\n",
              " 'all',\n",
              " 'powerful',\n",
              " 'drug',\n",
              " 'lord',\n",
              " 'why',\n",
              " 'he',\n",
              " 'wants',\n",
              " 'mj',\n",
              " 'dead',\n",
              " 'so',\n",
              " 'bad',\n",
              " 'is',\n",
              " 'beyond',\n",
              " 'me',\n",
              " 'because',\n",
              " 'mj',\n",
              " 'overheard',\n",
              " 'his',\n",
              " 'plans',\n",
              " 'nah',\n",
              " 'joe',\n",
              " 'pesci',\n",
              " 's',\n",
              " 'character',\n",
              " 'ranted',\n",
              " 'that',\n",
              " 'he',\n",
              " 'wanted',\n",
              " 'people',\n",
              " 'to',\n",
              " 'know',\n",
              " 'it',\n",
              " 'is',\n",
              " 'he',\n",
              " 'who',\n",
              " 'is',\n",
              " 'supplying',\n",
              " 'drugs',\n",
              " 'etc',\n",
              " 'so',\n",
              " 'i',\n",
              " 'dunno',\n",
              " 'maybe',\n",
              " 'he',\n",
              " 'just',\n",
              " 'hates',\n",
              " 'mj',\n",
              " 's',\n",
              " 'music',\n",
              " 'lots',\n",
              " 'of',\n",
              " 'cool',\n",
              " 'things',\n",
              " 'in',\n",
              " 'this',\n",
              " 'like',\n",
              " 'mj',\n",
              " 'turning',\n",
              " 'into',\n",
              " 'a',\n",
              " 'car',\n",
              " 'and',\n",
              " 'a',\n",
              " 'robot',\n",
              " 'and',\n",
              " 'the',\n",
              " 'whole',\n",
              " 'speed',\n",
              " 'demon',\n",
              " 'sequence',\n",
              " 'also',\n",
              " 'the',\n",
              " 'director',\n",
              " 'must',\n",
              " 'have',\n",
              " 'had',\n",
              " 'the',\n",
              " 'patience',\n",
              " 'of',\n",
              " 'a',\n",
              " 'saint',\n",
              " 'when',\n",
              " 'it',\n",
              " 'came',\n",
              " 'to',\n",
              " 'filming',\n",
              " 'the',\n",
              " 'kiddy',\n",
              " 'bad',\n",
              " 'sequence',\n",
              " 'as',\n",
              " 'usually',\n",
              " 'directors',\n",
              " 'hate',\n",
              " 'working',\n",
              " 'with',\n",
              " 'one',\n",
              " 'kid',\n",
              " 'let',\n",
              " 'alone',\n",
              " 'a',\n",
              " 'whole',\n",
              " 'bunch',\n",
              " 'of',\n",
              " 'them',\n",
              " 'performing',\n",
              " 'a',\n",
              " 'complex',\n",
              " 'dance',\n",
              " 'scene',\n",
              " 'bottom',\n",
              " 'line',\n",
              " 'this',\n",
              " 'movie',\n",
              " 'is',\n",
              " 'for',\n",
              " 'people',\n",
              " 'who',\n",
              " 'like',\n",
              " 'mj',\n",
              " 'on',\n",
              " 'one',\n",
              " 'level',\n",
              " 'or',\n",
              " 'another',\n",
              " 'which',\n",
              " 'i',\n",
              " 'think',\n",
              " 'is',\n",
              " 'most',\n",
              " 'people',\n",
              " 'if',\n",
              " 'not',\n",
              " 'then',\n",
              " 'stay',\n",
              " 'away',\n",
              " 'it',\n",
              " 'does',\n",
              " 'try',\n",
              " 'and',\n",
              " 'give',\n",
              " 'off',\n",
              " 'a',\n",
              " 'wholesome',\n",
              " 'message',\n",
              " 'and',\n",
              " 'ironically',\n",
              " 'mj',\n",
              " 's',\n",
              " 'bestest',\n",
              " 'buddy',\n",
              " 'in',\n",
              " 'this',\n",
              " 'movie',\n",
              " 'is',\n",
              " 'a',\n",
              " 'girl',\n",
              " 'michael',\n",
              " 'jackson',\n",
              " 'is',\n",
              " 'truly',\n",
              " 'one',\n",
              " 'of',\n",
              " 'the',\n",
              " 'most',\n",
              " 'talented',\n",
              " 'people',\n",
              " 'ever',\n",
              " 'to',\n",
              " 'grace',\n",
              " 'this',\n",
              " 'planet',\n",
              " 'but',\n",
              " 'is',\n",
              " 'he',\n",
              " 'guilty',\n",
              " 'well',\n",
              " 'with',\n",
              " 'all',\n",
              " 'the',\n",
              " 'attention',\n",
              " 'i',\n",
              " 've',\n",
              " 'gave',\n",
              " 'this',\n",
              " 'subject',\n",
              " 'hmmm',\n",
              " 'well',\n",
              " 'i',\n",
              " 'don',\n",
              " 't',\n",
              " 'know',\n",
              " 'because',\n",
              " 'people',\n",
              " 'can',\n",
              " 'be',\n",
              " 'different',\n",
              " 'behind',\n",
              " 'closed',\n",
              " 'doors',\n",
              " 'i',\n",
              " 'know',\n",
              " 'this',\n",
              " 'for',\n",
              " 'a',\n",
              " 'fact',\n",
              " 'he',\n",
              " 'is',\n",
              " 'either',\n",
              " 'an',\n",
              " 'extremely',\n",
              " 'nice',\n",
              " 'but',\n",
              " 'stupid',\n",
              " 'guy',\n",
              " 'or',\n",
              " 'one',\n",
              " 'of',\n",
              " 'the',\n",
              " 'most',\n",
              " 'sickest',\n",
              " 'liars',\n",
              " 'i',\n",
              " 'hope',\n",
              " 'he',\n",
              " 'is',\n",
              " 'not',\n",
              " 'the',\n",
              " 'latter']"
            ]
          },
          "metadata": {},
          "execution_count": 15
        }
      ],
      "source": [
        "sample"
      ]
    },
    {
      "cell_type": "code",
      "execution_count": null,
      "id": "d729b143",
      "metadata": {
        "colab": {
          "base_uri": "https://localhost:8080/"
        },
        "id": "d729b143",
        "outputId": "7e3500ef-a7af-4d1d-ebab-65133ad1fd71"
      },
      "outputs": [
        {
          "output_type": "execute_result",
          "data": {
            "text/plain": [
              "437"
            ]
          },
          "metadata": {},
          "execution_count": 16
        }
      ],
      "source": [
        "len(sample)"
      ]
    },
    {
      "cell_type": "code",
      "execution_count": null,
      "id": "4a9a90aa",
      "metadata": {
        "colab": {
          "base_uri": "https://localhost:8080/"
        },
        "id": "4a9a90aa",
        "outputId": "21b4edd6-ea3c-463a-952c-3d01be38fb71"
      },
      "outputs": [
        {
          "output_type": "execute_result",
          "data": {
            "text/plain": [
              "['stuff',\n",
              " 'going',\n",
              " 'moment',\n",
              " 'mj',\n",
              " 'started',\n",
              " 'listening',\n",
              " 'music',\n",
              " 'watching',\n",
              " 'odd',\n",
              " 'documentary',\n",
              " 'watched',\n",
              " 'wiz',\n",
              " 'watched',\n",
              " 'moonwalker',\n",
              " 'maybe',\n",
              " 'want',\n",
              " 'get',\n",
              " 'certain',\n",
              " 'insight',\n",
              " 'guy',\n",
              " 'thought',\n",
              " 'really',\n",
              " 'cool',\n",
              " 'eighties',\n",
              " 'maybe',\n",
              " 'make',\n",
              " 'mind',\n",
              " 'whether',\n",
              " 'guilty',\n",
              " 'innocent',\n",
              " 'moonwalker',\n",
              " 'part',\n",
              " 'biography',\n",
              " 'part',\n",
              " 'feature',\n",
              " 'film',\n",
              " 'remember',\n",
              " 'going',\n",
              " 'see',\n",
              " 'cinema',\n",
              " 'originally',\n",
              " 'released',\n",
              " 'subtle',\n",
              " 'messages',\n",
              " 'mj',\n",
              " 'feeling',\n",
              " 'towards',\n",
              " 'press',\n",
              " 'also',\n",
              " 'obvious',\n",
              " 'message',\n",
              " 'drugs',\n",
              " 'bad',\n",
              " 'kay',\n",
              " 'visually',\n",
              " 'impressive',\n",
              " 'course',\n",
              " 'michael',\n",
              " 'jackson',\n",
              " 'unless',\n",
              " 'remotely',\n",
              " 'like',\n",
              " 'mj',\n",
              " 'anyway',\n",
              " 'going',\n",
              " 'hate',\n",
              " 'find',\n",
              " 'boring',\n",
              " 'may',\n",
              " 'call',\n",
              " 'mj',\n",
              " 'egotist',\n",
              " 'consenting',\n",
              " 'making',\n",
              " 'movie',\n",
              " 'mj',\n",
              " 'fans',\n",
              " 'would',\n",
              " 'say',\n",
              " 'made',\n",
              " 'fans',\n",
              " 'true',\n",
              " 'really',\n",
              " 'nice',\n",
              " 'actual',\n",
              " 'feature',\n",
              " 'film',\n",
              " 'bit',\n",
              " 'finally',\n",
              " 'starts',\n",
              " 'minutes',\n",
              " 'excluding',\n",
              " 'smooth',\n",
              " 'criminal',\n",
              " 'sequence',\n",
              " 'joe',\n",
              " 'pesci',\n",
              " 'convincing',\n",
              " 'psychopathic',\n",
              " 'powerful',\n",
              " 'drug',\n",
              " 'lord',\n",
              " 'wants',\n",
              " 'mj',\n",
              " 'dead',\n",
              " 'bad',\n",
              " 'beyond',\n",
              " 'mj',\n",
              " 'overheard',\n",
              " 'plans',\n",
              " 'nah',\n",
              " 'joe',\n",
              " 'pesci',\n",
              " 'character',\n",
              " 'ranted',\n",
              " 'wanted',\n",
              " 'people',\n",
              " 'know',\n",
              " 'supplying',\n",
              " 'drugs',\n",
              " 'etc',\n",
              " 'dunno',\n",
              " 'maybe',\n",
              " 'hates',\n",
              " 'mj',\n",
              " 'music',\n",
              " 'lots',\n",
              " 'cool',\n",
              " 'things',\n",
              " 'like',\n",
              " 'mj',\n",
              " 'turning',\n",
              " 'car',\n",
              " 'robot',\n",
              " 'whole',\n",
              " 'speed',\n",
              " 'demon',\n",
              " 'sequence',\n",
              " 'also',\n",
              " 'director',\n",
              " 'must',\n",
              " 'patience',\n",
              " 'saint',\n",
              " 'came',\n",
              " 'filming',\n",
              " 'kiddy',\n",
              " 'bad',\n",
              " 'sequence',\n",
              " 'usually',\n",
              " 'directors',\n",
              " 'hate',\n",
              " 'working',\n",
              " 'one',\n",
              " 'kid',\n",
              " 'let',\n",
              " 'alone',\n",
              " 'whole',\n",
              " 'bunch',\n",
              " 'performing',\n",
              " 'complex',\n",
              " 'dance',\n",
              " 'scene',\n",
              " 'bottom',\n",
              " 'line',\n",
              " 'movie',\n",
              " 'people',\n",
              " 'like',\n",
              " 'mj',\n",
              " 'one',\n",
              " 'level',\n",
              " 'another',\n",
              " 'think',\n",
              " 'people',\n",
              " 'stay',\n",
              " 'away',\n",
              " 'try',\n",
              " 'give',\n",
              " 'wholesome',\n",
              " 'message',\n",
              " 'ironically',\n",
              " 'mj',\n",
              " 'bestest',\n",
              " 'buddy',\n",
              " 'movie',\n",
              " 'girl',\n",
              " 'michael',\n",
              " 'jackson',\n",
              " 'truly',\n",
              " 'one',\n",
              " 'talented',\n",
              " 'people',\n",
              " 'ever',\n",
              " 'grace',\n",
              " 'planet',\n",
              " 'guilty',\n",
              " 'well',\n",
              " 'attention',\n",
              " 'gave',\n",
              " 'subject',\n",
              " 'hmmm',\n",
              " 'well',\n",
              " 'know',\n",
              " 'people',\n",
              " 'different',\n",
              " 'behind',\n",
              " 'closed',\n",
              " 'doors',\n",
              " 'know',\n",
              " 'fact',\n",
              " 'either',\n",
              " 'extremely',\n",
              " 'nice',\n",
              " 'stupid',\n",
              " 'guy',\n",
              " 'one',\n",
              " 'sickest',\n",
              " 'liars',\n",
              " 'hope',\n",
              " 'latter']"
            ]
          },
          "metadata": {},
          "execution_count": 17
        }
      ],
      "source": [
        "# sample without stopwords\n",
        "swords = set(stopwords.words(\"english\"))                      # conversion into set for fast searching\n",
        "sample = [w for w in sample if w not in swords]               \n",
        "sample\n"
      ]
    },
    {
      "cell_type": "code",
      "execution_count": null,
      "id": "d57027ff",
      "metadata": {
        "colab": {
          "base_uri": "https://localhost:8080/"
        },
        "id": "d57027ff",
        "outputId": "cd96201c-66e6-4489-dddf-014536a9c4c0"
      },
      "outputs": [
        {
          "output_type": "execute_result",
          "data": {
            "text/plain": [
              "219"
            ]
          },
          "metadata": {},
          "execution_count": 18
        }
      ],
      "source": [
        "len(sample)"
      ]
    },
    {
      "cell_type": "markdown",
      "source": [
        "- After describing the cleanup process, we now batch clean the reviews in our entire dataframe in a loop\n",
        "- for this purpose we first create a function:"
      ],
      "metadata": {
        "id": "Rj3gVh6JBlxN"
      },
      "id": "Rj3gVh6JBlxN"
    },
    {
      "cell_type": "code",
      "execution_count": null,
      "id": "66ec33e6",
      "metadata": {
        "id": "66ec33e6"
      },
      "outputs": [],
      "source": [
        "def process(review):\n",
        "    # without HTML tags\n",
        "    review = BeautifulSoup(review).get_text()\n",
        "    # without punctuation and numbers\n",
        "    review = re.sub(\"[^a-zA-Z]\",' ',review)\n",
        "    # lowercase and splitting to eliminate stopwords\n",
        "    review = review.lower()\n",
        "    review = review.split()\n",
        "    # without stopwords\n",
        "    swords = set(stopwords.words(\"english\"))                      \n",
        "    review = [w for w in review if w not in swords]               \n",
        "    # we join splitted paragraphs with join before return..\n",
        "    return(\" \".join(review))"
      ]
    },
    {
      "cell_type": "code",
      "execution_count": null,
      "id": "594912eb",
      "metadata": {
        "colab": {
          "base_uri": "https://localhost:8080/"
        },
        "id": "594912eb",
        "outputId": "fc0b57e3-e18f-4800-c5de-940cccab5fef"
      },
      "outputs": [
        {
          "output_type": "stream",
          "name": "stdout",
          "text": [
            "No of reviews processed = 1000\n",
            "No of reviews processed = 2000\n",
            "No of reviews processed = 3000\n",
            "No of reviews processed = 4000\n",
            "No of reviews processed = 5000\n",
            "No of reviews processed = 6000\n",
            "No of reviews processed = 7000\n",
            "No of reviews processed = 8000\n",
            "No of reviews processed = 9000\n",
            "No of reviews processed = 10000\n",
            "No of reviews processed = 11000\n",
            "No of reviews processed = 12000\n",
            "No of reviews processed = 13000\n",
            "No of reviews processed = 14000\n",
            "No of reviews processed = 15000\n",
            "No of reviews processed = 16000\n",
            "No of reviews processed = 17000\n",
            "No of reviews processed = 18000\n",
            "No of reviews processed = 19000\n",
            "No of reviews processed = 20000\n",
            "No of reviews processed = 21000\n",
            "No of reviews processed = 22000\n",
            "No of reviews processed = 23000\n",
            "No of reviews processed = 24000\n",
            "No of reviews processed = 25000\n"
          ]
        }
      ],
      "source": [
        "# We clean our training data with the help of the above function:\n",
        "# We can see the status of the review process by printing a line after every 1000 reviews.\n",
        "\n",
        "train_x_tum = []\n",
        "for r in range(len(df[\"review\"])):        \n",
        "    if (r+1)%1000 == 0:        \n",
        "        print(\"No of reviews processed =\", r+1)\n",
        "    train_x_tum.append(process(df[\"review\"][r]))"
      ]
    },
    {
      "cell_type": "markdown",
      "id": "b7d2a1c0",
      "metadata": {
        "id": "b7d2a1c0"
      },
      "source": [
        "### Train, test split..."
      ]
    },
    {
      "cell_type": "code",
      "execution_count": null,
      "id": "0d340b40",
      "metadata": {
        "id": "0d340b40"
      },
      "outputs": [],
      "source": [
        "# Now we are going to split our data as train and test..\n",
        "x = train_x_tum\n",
        "y = np.array(df[\"sentiment\"])\n",
        "\n",
        "# train test split\n",
        "train_x, test_x, y_train, y_test = train_test_split(x,y, test_size = 0.1)\n"
      ]
    },
    {
      "cell_type": "markdown",
      "id": "590370e4",
      "metadata": {
        "id": "590370e4"
      },
      "source": [
        "### We are building our Bag of Words !\n",
        "\n",
        "We have cleaned our data, but for the artificial intelligence to work, it is necessary to convert this text-based data into numbers and a matrix called bag of words. Here we use the CountVectorizer tool in sklearn for this purpose:"
      ]
    },
    {
      "cell_type": "markdown",
      "id": "91d80813",
      "metadata": {
        "id": "91d80813"
      },
      "source": [
        "<IMG src=\"bag.jpg\" width=\"900\" height=\"900\" >"
      ]
    },
    {
      "cell_type": "code",
      "execution_count": null,
      "id": "cb5e8c17",
      "metadata": {
        "id": "cb5e8c17"
      },
      "outputs": [],
      "source": [
        "# Using the countvectorizer function in sklearn, we create a bag of words with a maximum of 5000 words...\n",
        "vectorizer = CountVectorizer( max_features = 5000 )\n",
        "\n",
        "# We convert our train data to feature vector matrix\n",
        "train_x = vectorizer.fit_transform(train_x)\n",
        "\n"
      ]
    },
    {
      "cell_type": "code",
      "execution_count": null,
      "id": "6e9925e2",
      "metadata": {
        "colab": {
          "base_uri": "https://localhost:8080/"
        },
        "id": "6e9925e2",
        "outputId": "12588e55-fb02-4aef-a786-bef794de60e7"
      },
      "outputs": [
        {
          "output_type": "execute_result",
          "data": {
            "text/plain": [
              "<22500x5000 sparse matrix of type '<class 'numpy.int64'>'\n",
              "\twith 1778285 stored elements in Compressed Sparse Row format>"
            ]
          },
          "metadata": {},
          "execution_count": 23
        }
      ],
      "source": [
        "train_x"
      ]
    },
    {
      "cell_type": "code",
      "execution_count": null,
      "id": "a05067bc",
      "metadata": {
        "id": "a05067bc"
      },
      "outputs": [],
      "source": [
        "# We are converting it to array because it wants array for fit operation..\n",
        "train_x = train_x.toarray()\n",
        "train_y = y_train"
      ]
    },
    {
      "cell_type": "code",
      "execution_count": null,
      "id": "bcddaafb",
      "metadata": {
        "colab": {
          "base_uri": "https://localhost:8080/"
        },
        "id": "bcddaafb",
        "outputId": "a6fcc147-3623-471f-868f-5b32795dc5fb"
      },
      "outputs": [
        {
          "output_type": "execute_result",
          "data": {
            "text/plain": [
              "((22500, 5000), (22500,))"
            ]
          },
          "metadata": {},
          "execution_count": 25
        }
      ],
      "source": [
        "train_x.shape, train_y.shape"
      ]
    },
    {
      "cell_type": "code",
      "execution_count": null,
      "id": "c550376c",
      "metadata": {
        "colab": {
          "base_uri": "https://localhost:8080/"
        },
        "id": "c550376c",
        "outputId": "87e0d81a-b40f-4996-d6d1-dc9548fd385c"
      },
      "outputs": [
        {
          "output_type": "execute_result",
          "data": {
            "text/plain": [
              "array([1, 0, 1, ..., 1, 1, 1])"
            ]
          },
          "metadata": {},
          "execution_count": 26
        }
      ],
      "source": [
        "train_y"
      ]
    },
    {
      "cell_type": "markdown",
      "id": "d658fe33",
      "metadata": {
        "id": "d658fe33"
      },
      "source": [
        "### We build and fit a Random Forest Model"
      ]
    },
    {
      "cell_type": "code",
      "execution_count": null,
      "id": "0029a57b",
      "metadata": {
        "colab": {
          "base_uri": "https://localhost:8080/"
        },
        "id": "0029a57b",
        "outputId": "024c0769-2679-4b9e-c870-a27458112842"
      },
      "outputs": [
        {
          "output_type": "execute_result",
          "data": {
            "text/plain": [
              "RandomForestClassifier(random_state=42)"
            ]
          },
          "metadata": {},
          "execution_count": 27
        }
      ],
      "source": [
        "model = RandomForestClassifier(n_estimators = 100, random_state=42)\n",
        "model.fit(train_x, train_y)\n"
      ]
    },
    {
      "cell_type": "code",
      "execution_count": null,
      "id": "3e04f2f4",
      "metadata": {
        "id": "3e04f2f4"
      },
      "outputs": [],
      "source": [
        ""
      ]
    },
    {
      "cell_type": "markdown",
      "id": "b440b1a5",
      "metadata": {
        "id": "b440b1a5"
      },
      "source": [
        "### Now it's time for our test data.."
      ]
    },
    {
      "cell_type": "code",
      "execution_count": null,
      "id": "5433e2ca",
      "metadata": {
        "id": "5433e2ca"
      },
      "outputs": [],
      "source": [
        "# We convert our test data to feature vector matrix\n",
        "test_xx = vectorizer.transform(test_x)\n"
      ]
    },
    {
      "cell_type": "code",
      "execution_count": null,
      "id": "d7bbfd5f",
      "metadata": {
        "colab": {
          "base_uri": "https://localhost:8080/"
        },
        "id": "d7bbfd5f",
        "outputId": "da721f80-c30f-40d9-a01c-678b2c9f3c93"
      },
      "outputs": [
        {
          "output_type": "execute_result",
          "data": {
            "text/plain": [
              "<2500x5000 sparse matrix of type '<class 'numpy.int64'>'\n",
              "\twith 196770 stored elements in Compressed Sparse Row format>"
            ]
          },
          "metadata": {},
          "execution_count": 29
        }
      ],
      "source": [
        "test_xx"
      ]
    },
    {
      "cell_type": "code",
      "execution_count": null,
      "id": "b1959911",
      "metadata": {
        "id": "b1959911"
      },
      "outputs": [],
      "source": [
        "test_xx = test_xx.toarray()"
      ]
    },
    {
      "cell_type": "code",
      "execution_count": null,
      "id": "a7cf4853",
      "metadata": {
        "colab": {
          "base_uri": "https://localhost:8080/"
        },
        "id": "a7cf4853",
        "outputId": "15ecb682-a140-4466-fc6d-814de02cd32d"
      },
      "outputs": [
        {
          "output_type": "execute_result",
          "data": {
            "text/plain": [
              "(2500, 5000)"
            ]
          },
          "metadata": {},
          "execution_count": 31
        }
      ],
      "source": [
        "test_xx.shape"
      ]
    },
    {
      "cell_type": "markdown",
      "id": "7ef0be3d",
      "metadata": {
        "id": "7ef0be3d"
      },
      "source": [
        "#### Now let's predict.."
      ]
    },
    {
      "cell_type": "code",
      "execution_count": null,
      "id": "54e913a5",
      "metadata": {
        "id": "54e913a5"
      },
      "outputs": [],
      "source": [
        "test_predict = model.predict(test_xx)\n",
        "acc = roc_auc_score(y_test, test_predict)"
      ]
    },
    {
      "cell_type": "code",
      "execution_count": null,
      "id": "82bbd16b",
      "metadata": {
        "colab": {
          "base_uri": "https://localhost:8080/"
        },
        "id": "82bbd16b",
        "outputId": "6b5c9f9c-6b38-472a-f77f-e2a3453041e4"
      },
      "outputs": [
        {
          "output_type": "stream",
          "name": "stdout",
          "text": [
            "Accuracy: %  84.79690787170406\n"
          ]
        }
      ],
      "source": [
        "print(\"Accuracy: % \", acc * 100)"
      ]
    },
    {
      "cell_type": "code",
      "execution_count": null,
      "id": "c0dd665d",
      "metadata": {
        "id": "c0dd665d"
      },
      "outputs": [],
      "source": [
        ""
      ]
    },
    {
      "cell_type": "code",
      "execution_count": null,
      "id": "0733f4e8",
      "metadata": {
        "id": "0733f4e8"
      },
      "outputs": [],
      "source": [
        ""
      ]
    }
  ],
  "metadata": {
    "kernelspec": {
      "display_name": "Python 3",
      "language": "python",
      "name": "python3"
    },
    "language_info": {
      "codemirror_mode": {
        "name": "ipython",
        "version": 3
      },
      "file_extension": ".py",
      "mimetype": "text/x-python",
      "name": "python",
      "nbconvert_exporter": "python",
      "pygments_lexer": "ipython3",
      "version": "3.8.8"
    },
    "colab": {
      "name": "sentiment analysis using nlp",
      "provenance": [],
      "include_colab_link": true
    },
    "accelerator": "GPU"
  },
  "nbformat": 4,
  "nbformat_minor": 5
}